{
 "cells": [
  {
   "cell_type": "markdown",
   "metadata": {},
   "source": [
    "### 导入及基本操作"
   ]
  },
  {
   "cell_type": "code",
   "execution_count": 35,
   "metadata": {
    "ExecuteTime": {
     "end_time": "2019-07-30T08:15:33.214602Z",
     "start_time": "2019-07-30T08:15:33.207148Z"
    }
   },
   "outputs": [
    {
     "name": "stderr",
     "output_type": "stream",
     "text": [
      "UsageError: unrecognized arguments: #得加这一句才能在 notebook里显示\n"
     ]
    }
   ],
   "source": [
    "%matplotlib inline #得加这一句才能在 notebook里显示\n",
    "import numpy as np\n",
    "import matplotlib.pyplot as plt"
   ]
  },
  {
   "cell_type": "code",
   "execution_count": null,
   "metadata": {
    "ExecuteTime": {
     "end_time": "2019-07-30T08:15:33.215601Z",
     "start_time": "2019-07-30T08:15:33.208Z"
    }
   },
   "outputs": [],
   "source": [
    "#plot默认在同一张图内绘图, 除非再申明一张figure\n",
    "X = np.linspace(-np.pi, np.pi, 256,endpoint=True)\n",
    "C,S = np.cos(X), np.sin(X)\n",
    "plt.plot(X,C)\n",
    "plt.plot(X,S)\n",
    "plt.show()"
   ]
  },
  {
   "cell_type": "markdown",
   "metadata": {},
   "source": [
    "### 设置x轴,label,颜色,宽度等"
   ]
  },
  {
   "cell_type": "code",
   "execution_count": null,
   "metadata": {
    "ExecuteTime": {
     "end_time": "2019-07-30T08:15:33.221427Z",
     "start_time": "2019-07-30T08:15:33.213Z"
    }
   },
   "outputs": [],
   "source": [
    "from matplotlib.pyplot import * #方便起见\n",
    "# 创建一个 8 * 6 点（point）的图，并设置分辨率为 80\n",
    "figure(figsize=(8,6), dpi=80)\n",
    "X = np.linspace(-np.pi, np.pi, 256,endpoint=True)\n",
    "C,S = np.cos(X), np.sin(X)\n",
    "# 绘制余弦曲线，使用蓝色的、连续的、宽度为 1 （像素）的线条\n",
    "plot(X, C, color=\"blue\", linewidth=1.0, linestyle=\"-.\")\n",
    "# 绘制正弦曲线，使用绿色的、连续的、宽度为 1 （像素）的线条\n",
    "plot(X, S, color=\"green\", linewidth=1.0, linestyle=\"-\")\n",
    "\n",
    "title(r'title_latex$a_i^3$')\n",
    "xlim(-4.0,4.0)# 设置横轴的上下限\n",
    "xticks(np.linspace(-4,4,9,endpoint=True))# 设置横轴记号\n",
    "ylim(-1.0,1.0)# 设置纵轴的上下限\n",
    "# yticks(np.linspace(-1,1,5,endpoint=True))# 设置纵轴记号\n",
    "yticks([-1, 0, +1],[r'$-1$', r'$+-0$', r'$+1$']) #可以设置成letex记号\n",
    "# legend(['sin','cos']) # 设置图例\n",
    "legend(['sin','cos'],loc='upper left',) # 设置图例和位置\n",
    "\n",
    "ax = gca() #设置 四条轴 上下左右的位置, 首先设置右上两条为透明 \n",
    "ax.spines['right'].set_color('none')\n",
    "ax.spines['top'].set_color('none')\n",
    "ax.spines['bottom'].set_position(('data',0))\n",
    "ax.spines['left'].set_position(('data',0))\n",
    "text(-4,0.2,'text',size=20,rotation = -30) #添加文字\n",
    "\n",
    "show()"
   ]
  },
  {
   "cell_type": "code",
   "execution_count": null,
   "metadata": {
    "ExecuteTime": {
     "end_time": "2019-07-30T08:15:33.222555Z",
     "start_time": "2019-07-30T08:15:33.217Z"
    }
   },
   "outputs": [],
   "source": [
    "## 一框多图\n",
    "plt.subplot(2,1,1)\n",
    "plt.subplot(2,1,2) #前两个参数是行列的字图数,,第三个参数是当前要切换到第几个子图\n",
    "plt.show()\n"
   ]
  },
  {
   "cell_type": "markdown",
   "metadata": {},
   "source": [
    "### 散点图"
   ]
  },
  {
   "cell_type": "code",
   "execution_count": null,
   "metadata": {
    "ExecuteTime": {
     "end_time": "2019-07-30T08:15:33.224045Z",
     "start_time": "2019-07-30T08:15:33.221Z"
    }
   },
   "outputs": [],
   "source": [
    "from matplotlib.pyplot import *\n",
    "\n",
    "# n = 1024\n",
    "# X = np.random.normal(0,1,n)\n",
    "# Y = np.random.normal(0,1,n)\n",
    "# scatter(X,Y,s=10,c=Y) #s=size,c=color\n",
    "\n",
    "# xy坐标确定一个点, 颜色值决定可以自己决定,如下设置,则颜色仅与y值有关\n",
    "x = list(range(1, 7))\n",
    "y = list(range(1, 7))\n",
    "scatter(x, y, s=10*np.array(x)**2, c=x)\n",
    "show()"
   ]
  },
  {
   "cell_type": "markdown",
   "metadata": {},
   "source": [
    "### 条形图"
   ]
  },
  {
   "cell_type": "code",
   "execution_count": null,
   "metadata": {
    "ExecuteTime": {
     "end_time": "2019-07-30T08:15:33.253086Z",
     "start_time": "2019-07-30T08:15:33.250Z"
    }
   },
   "outputs": [],
   "source": [
    "from pylab import *\n",
    "\n",
    "n = 12\n",
    "X = np.arange(n)\n",
    "Y1 = (1-X/float(n)) * np.random.uniform(0.5,1.0,n)\n",
    "Y2 = (1-X/float(n)) * np.random.uniform(0.5,1.0,n)\n",
    "\n",
    "bar(X, +Y1, facecolor='#9999ff', edgecolor='white')\n",
    "bar(X, -Y2, facecolor='#ff9999', edgecolor='white')\n",
    "\n",
    "for x,y in zip(X,Y1):\n",
    "    text(x+0.4, y+0.05, '%.2f' % y, ha='center', va= 'bottom')\n",
    "\n",
    "ylim(-1.25,+1.25)\n",
    "show()"
   ]
  },
  {
   "cell_type": "markdown",
   "metadata": {},
   "source": [
    "### 等高线"
   ]
  },
  {
   "cell_type": "code",
   "execution_count": null,
   "metadata": {
    "ExecuteTime": {
     "end_time": "2019-07-30T08:15:33.261102Z",
     "start_time": "2019-07-30T08:15:33.258Z"
    }
   },
   "outputs": [],
   "source": [
    "n = 1000\n",
    "x, y = np.meshgrid(np.linspace(-3, 3, n), np.linspace(-3, 3, n))\n",
    "plt.grid()\n",
    "z = -(1 - x / 2 + x ** 5 + y ** 3) * np.exp(-x ** 2 - y ** 2)\n",
    "cntr = plt.contour(x, y, z, 8, colors='black', linewidths=0.5)\n",
    "plt.clabel(cntr, fmt='%.1f', fontsize=10, inline_spacing=1)\n",
    "\n",
    "plt.xticks([])\n",
    "plt.xlabel('x1')\n",
    "plt.yticks([])\n",
    "plt.ylabel('y1')\n",
    "plt.axis()\n",
    "plt.show()"
   ]
  },
  {
   "cell_type": "markdown",
   "metadata": {},
   "source": [
    "## 参考文档 [link](https://liam.page/2014/09/11/matplotlib-tutorial-zh-cn/)"
   ]
  }
 ],
 "metadata": {
  "kernelspec": {
   "display_name": "Python 3",
   "language": "python",
   "name": "python3"
  },
  "language_info": {
   "codemirror_mode": {
    "name": "ipython",
    "version": 3
   },
   "file_extension": ".py",
   "mimetype": "text/x-python",
   "name": "python",
   "nbconvert_exporter": "python",
   "pygments_lexer": "ipython3",
   "version": "3.6.4"
  },
  "toc": {
   "base_numbering": 1,
   "nav_menu": {},
   "number_sections": true,
   "sideBar": true,
   "skip_h1_title": false,
   "title_cell": "Table of Contents",
   "title_sidebar": "Contents",
   "toc_cell": false,
   "toc_position": {},
   "toc_section_display": true,
   "toc_window_display": false
  },
  "varInspector": {
   "cols": {
    "lenName": 16,
    "lenType": 16,
    "lenVar": 40
   },
   "kernels_config": {
    "python": {
     "delete_cmd_postfix": "",
     "delete_cmd_prefix": "del ",
     "library": "var_list.py",
     "varRefreshCmd": "print(var_dic_list())"
    },
    "r": {
     "delete_cmd_postfix": ") ",
     "delete_cmd_prefix": "rm(",
     "library": "var_list.r",
     "varRefreshCmd": "cat(var_dic_list()) "
    }
   },
   "position": {
    "height": "369.8px",
    "left": "922px",
    "right": "20px",
    "top": "94px",
    "width": "546.8px"
   },
   "types_to_exclude": [
    "module",
    "function",
    "builtin_function_or_method",
    "instance",
    "_Feature"
   ],
   "window_display": false
  }
 },
 "nbformat": 4,
 "nbformat_minor": 2
}
