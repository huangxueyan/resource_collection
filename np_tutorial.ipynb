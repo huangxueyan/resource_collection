{
 "cells": [
  {
   "cell_type": "markdown",
   "metadata": {},
   "source": [
    "## 基本属性"
   ]
  },
  {
   "cell_type": "code",
   "execution_count": null,
   "metadata": {},
   "outputs": [],
   "source": [
    "\n",
    "import numpy as np\n",
    "a = np.arange(15).reshape(3,5)\n",
    "type(a)\n",
    "a.shape #行列\n",
    "a.ndim  #几维\n",
    "a.dtype #数组类型\n",
    "a.itemsize # 每项字节数\n",
    "a"
   ]
  },
  {
   "cell_type": "markdown",
   "metadata": {},
   "source": [
    "## 数组创建"
   ]
  },
  {
   "cell_type": "code",
   "execution_count": null,
   "metadata": {},
   "outputs": [],
   "source": [
    "\n",
    "a = np.array([1,2,3],dtype=complex) #没想到Python还原生态支持complex,就跟int一样\n",
    "#一般而言数组的动态增长是很耗时间的,因此一开始声明大小是不错的选择\n",
    "np.zeros((1,3)) #shape 参数可以是多维,也可以是1维\n",
    "np.ones(3,dtype=np.float) #类型最好调用np引用的类型\n",
    "np.arange(1,10,2) #一维数组, 可以等差,最好是整数\n",
    "np.linspace(1,10,10) #可以包括最后一个数.\n",
    " #打印 和 直接输出是不一样的. 不会加上array[1,2,3]\n",
    "np.floor(10*np.random.random((3,4))) #radom 库的01均匀分布"
   ]
  },
  {
   "cell_type": "markdown",
   "metadata": {},
   "source": [
    "## 自带函数"
   ]
  },
  {
   "cell_type": "code",
   "execution_count": null,
   "metadata": {},
   "outputs": [],
   "source": [
    "#如果两个array 类型不一,则默认精度优先,向上保留.\n",
    "np.sin(np.pi/2) #还有这种神仙函数\n",
    "a = np.arange(4)\n",
    "a**2 #元素操作\n",
    "a<2 #返回一个array\n",
    "a.sum()\n",
    "a.max()\n",
    "#沿轴操作, 没有axis,则对每个元素进行操作\n",
    "#有指定axis, 则遍历该axis的元素, 如axis=0,则遍历,[0][0],[0][1]...[0][n]\n",
    "b = np.arange(12).reshape(3,4)\n",
    "b.sum(axis=0)\n",
    "\n",
    "b.T #转置\n",
    "#索引 神仙操作 ... 三个点表示自动填充维度,:,相当于:\n",
    "#for 循环默认是 减一维 !!!\n",
    "for i in b:\n",
    "    for j in i:\n",
    "        print(j)\n",
    "for element in b.flat: #遍历所有元素.\n",
    "    print(element) \n"
   ]
  },
  {
   "cell_type": "markdown",
   "metadata": {},
   "source": [
    "## 矩阵向量乘法"
   ]
  },
  {
   "cell_type": "code",
   "execution_count": null,
   "metadata": {},
   "outputs": [],
   "source": [
    "# 默认行向量 ,但是要处理列向量需要reshape, -1代表任意\n",
    "a = np.array([1,2,3]).reshape([-1,1])\n",
    "print(a)\n",
    "# 元素级乘法\n",
    "n = np.array([[1,1],[2,2]])\n",
    "m = np.array([[0,1],[2,3]])\n",
    "n*m #等价于 np.multiply(n,m)\n",
    "# 向量级乘法 np.dot()\n",
    "n = np.array([[1,1],[2,2]])\n",
    "m = np.array([[0,1],[2,3]])\n",
    "n*m #等价于 np.multiply(n,m)\n",
    "# 矩阵乘法 \n",
    "n = np.array([[1,1],[2,2]])\n",
    "m = np.array([[0,1],[2,3]])\n",
    "np.matmul(n,m) # matrix multiply \n"
   ]
  },
  {
   "cell_type": "markdown",
   "metadata": {},
   "source": [
    "## reshape,堆叠,拆分"
   ]
  },
  {
   "cell_type": "code",
   "execution_count": null,
   "metadata": {},
   "outputs": [],
   "source": [
    "# reshape 不改变原数组, resize会\n",
    "a = np.floor(10*np.random.random((2,3)))\n",
    "a.reshape((1,-1)) #-1是一个替代符,类似任意列.\n",
    "a\n",
    "a.resize((3,2))\n",
    "\n",
    "# 堆叠数组 vstack, 行堆叠\n",
    "b = np.array([[1,2],[1,2]])\n",
    "c = np.array([[3,4],[3,4]])\n",
    "np.vstack((b,c))\n",
    "np.hstack((b,c))\n",
    "\n",
    "#拆分 , 可以指定数量均匀拆,也可以指定中间列,分成三份\n",
    "d = np.array([[1,2,1,2,1,2,3,4,3,4,3,4],[1,2,1,2,1,2,3,4,3,4,3,4]])\n",
    "np.hsplit(d,3) #均匀分\n",
    "np.hsplit(d,[1,3]) #设定中心,左右分\n"
   ]
  },
  {
   "cell_type": "markdown",
   "metadata": {},
   "source": [
    "## 线性代数"
   ]
  },
  {
   "cell_type": "code",
   "execution_count": null,
   "metadata": {},
   "outputs": [],
   "source": [
    "#z转置 transpose = a.T\n",
    "a = np.array([[1.0,2],[3,4]])\n",
    "a.T\n",
    "np.transpose(a) \n",
    "\n",
    "np.linalg.inv(a) #逆矩阵\n",
    "np.linalg.det(a) #行列式\n",
    "np.linalg.eig(a) #返回特征值和特征向量,默认从小到大 \n",
    "np.linalg.solve(a,[1,2]) #解线性方程\n",
    "\n",
    "np.diag([1,2,3]) #返回对角矩阵 eye是默认为对角元素1,这个可以直接幅值\n",
    "np.trace(a) #矩阵的迹\n",
    "\n"
   ]
  }
 ],
 "metadata": {
  "file_extension": ".py",
  "kernelspec": {
   "display_name": "Python 3",
   "language": "python",
   "name": "python3"
  },
  "language_info": {
   "codemirror_mode": {
    "name": "ipython",
    "version": 3
   },
   "file_extension": ".py",
   "mimetype": "text/x-python",
   "name": "python",
   "nbconvert_exporter": "python",
   "pygments_lexer": "ipython3",
   "version": "3.6.4"
  },
  "mimetype": "text/x-python",
  "name": "python",
  "npconvert_exporter": "python",
  "pygments_lexer": "ipython3",
  "version": 3
 },
 "nbformat": 4,
 "nbformat_minor": 2
}
